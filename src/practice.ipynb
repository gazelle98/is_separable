{
 "cells": [
  {
   "cell_type": "code",
   "execution_count": 322,
   "metadata": {},
   "outputs": [],
   "source": [
    "using IJulia\n",
    "using Ket\n",
    "using JuMP\n",
    "import LinearAlgebra\n",
    "import SCS\n",
    "import Hypatia"
   ]
  },
  {
   "cell_type": "code",
   "execution_count": 323,
   "metadata": {},
   "outputs": [
    {
     "data": {
      "text/plain": [
       "4×4 LinearAlgebra.Hermitian{ComplexF64, Matrix{ComplexF64}}:\n",
       "   0.196321+0.0im        -0.0181549+0.152488im   …  0.225009+0.0756234im\n",
       " -0.0181549-0.152488im     0.176871+0.0im           0.131285-0.137434im\n",
       " -0.0237721+0.0800261im  -0.0110952-0.0342395im     0.055514+0.10994im\n",
       "   0.225009-0.0756234im    0.131285+0.137434im      0.487017+0.0im"
      ]
     },
     "metadata": {},
     "output_type": "display_data"
    }
   ],
   "source": [
    "k, d = 3, 4\n",
    "ρ = Ket.random_state(d, k)"
   ]
  },
  {
   "cell_type": "code",
   "execution_count": 324,
   "metadata": {},
   "outputs": [
    {
     "data": {
      "text/plain": [
       "4×4 LinearAlgebra.Hermitian{ComplexF64, Matrix{ComplexF64}}:\n",
       "   0.196321+0.0im        -0.0181549+0.152488im   …  0.225009+0.0756234im\n",
       " -0.0181549-0.152488im     0.176871+0.0im           0.131285-0.137434im\n",
       " -0.0237721+0.0800261im  -0.0110952-0.0342395im     0.055514+0.10994im\n",
       "   0.225009-0.0756234im    0.131285+0.137434im      0.487017+0.0im"
      ]
     },
     "metadata": {},
     "output_type": "display_data"
    }
   ],
   "source": [
    "X = ρ"
   ]
  },
  {
   "cell_type": "code",
   "execution_count": 325,
   "metadata": {},
   "outputs": [],
   "source": [
    "X = Matrix(X)\n",
    "if !LinearAlgebra.isposdef(X)\n",
    "    error(\"X is not positive semidefinite, so the idea of it being separable does not make sense.\")\n",
    "end"
   ]
  },
  {
   "cell_type": "code",
   "execution_count": 326,
   "metadata": {},
   "outputs": [
    {
     "data": {
      "text/plain": [
       "-1"
      ]
     },
     "metadata": {},
     "output_type": "display_data"
    }
   ],
   "source": [
    "lX = maximum(size(X))\n",
    "rX = LinearAlgebra.rank(X)\n",
    "X = X / LinearAlgebra.tr(X)\n",
    "sep = -1"
   ]
  },
  {
   "cell_type": "code",
   "execution_count": 327,
   "metadata": {},
   "outputs": [
    {
     "data": {
      "text/plain": [
       "1.3486991523486091e-6"
      ]
     },
     "metadata": {},
     "output_type": "display_data"
    }
   ],
   "source": [
    "dim = round(sqrt(lX))\n",
    "str = 2\n",
    "verbose = 1\n",
    "tol = eps()^(3 / 8)"
   ]
  },
  {
   "cell_type": "code",
   "execution_count": 328,
   "metadata": {},
   "outputs": [
    {
     "data": {
      "text/plain": [
       "2.0"
      ]
     },
     "metadata": {},
     "output_type": "display_data"
    }
   ],
   "source": [
    "if length(dim) == 1\n",
    "    dim = [dim, lX / dim]\n",
    "    if abs(dim[2] - round(dim[2])) >= 2 * lX * eps()\n",
    "        error(\"IsSeparable:InvalidDim','If DIM is a scalar, it must evenly divide length(X); please provide the DIM array containing the dimensions of the subsystems.\")\n",
    "    end\n",
    "    dim[2] = round(dim[2])\n",
    "end"
   ]
  },
  {
   "cell_type": "code",
   "execution_count": 329,
   "metadata": {},
   "outputs": [
    {
     "data": {
      "text/plain": [
       "4.0"
      ]
     },
     "metadata": {},
     "output_type": "display_data"
    }
   ],
   "source": [
    "nD = minimum(dim)\n",
    "xD = maximum(dim)\n",
    "pD = prod(dim)"
   ]
  },
  {
   "cell_type": "code",
   "execution_count": 330,
   "metadata": {},
   "outputs": [],
   "source": [
    "if nD == 1\n",
    "    sep = 1\n",
    "    if Bool(verbose)\n",
    "        println(\"Every positive semidefinite matrix is separable when one of the local dimensions is 1.\")\n",
    "    end\n",
    "\n",
    "    return\n",
    "end"
   ]
  },
  {
   "cell_type": "code",
   "execution_count": 331,
   "metadata": {},
   "outputs": [
    {
     "data": {
      "text/plain": [
       "2×2 Matrix{ComplexF64}:\n",
       "  0.336111+0.0im       0.0373591+0.262428im\n",
       " 0.0373591-0.262428im   0.663889+0.0im"
      ]
     },
     "metadata": {},
     "output_type": "display_data"
    }
   ],
   "source": [
    "XA = Ket.partial_trace(X, [2], Int.(dim))\n",
    "XB = Ket.partial_trace(X, [1], Int.(dim))"
   ]
  },
  {
   "cell_type": "code",
   "execution_count": 332,
   "metadata": {},
   "outputs": [
    {
     "data": {
      "text/plain": [
       "19-element Vector{String}:\n",
       " \"A. Peres. Separability criterio\"\u001b[93m\u001b[1m ⋯ 30 bytes ⋯ \u001b[22m\u001b[39m\"Rev. Lett., 77:1413–1415, 1996.\"\n",
       " \"M. Horodecki, P. Horodecki, and\"\u001b[93m\u001b[1m ⋯ 80 bytes ⋯ \u001b[22m\u001b[39m\". Phys. Lett. A, 223:1–8, 1996.\"\n",
       " \"P. Horodecki, M. Lewenstein, G.\"\u001b[93m\u001b[1m ⋯ 119 bytes ⋯ \u001b[22m\u001b[39m\"Phys. Rev. A, 62:032310, 2000.\"\n",
       " \"K. Chen and L.-A. Wu. A matrix \"\u001b[93m\u001b[1m ⋯ 56 bytes ⋯ \u001b[22m\u001b[39m\" Inf. Comput., 3:193–202, 2003.\"\n",
       " \"F. Verstraete, J. Dehaene, and \"\u001b[93m\u001b[1m ⋯ 83 bytes ⋯ \u001b[22m\u001b[39m\" Phys. Rev. A, 68:012103, 2003.\"\n",
       " \"K.-C. Ha and S.-H. Kye. Entangl\"\u001b[93m\u001b[1m ⋯ 82 bytes ⋯ \u001b[22m\u001b[39m\"ion Dynamics, 18:323–337, 2011.\"\n",
       " \"O. Gittsovich, O. Guehne, P. Hy\"\u001b[93m\u001b[1m ⋯ 101 bytes ⋯ \u001b[22m\u001b[39m\"Phys. Rev. A, 78:052319, 2008.\"\n",
       " \"L. Gurvits and H. Barnum. Large\"\u001b[93m\u001b[1m ⋯ 70 bytes ⋯ \u001b[22m\u001b[39m\" Phys. Rev. A, 66:062311, 2002.\"\n",
       " \"H.-P. Breuer. Optimal entanglem\"\u001b[93m\u001b[1m ⋯ 43 bytes ⋯ \u001b[22m\u001b[39m\"s. Rev. Lett., 97:080501, 2006.\"\n",
       " \"W. Hall. Constructions of indec\"\u001b[93m\u001b[1m ⋯ 79 bytes ⋯ \u001b[22m\u001b[39m\": arXiv:quant-ph/0607035, 2006.\"\n",
       " \"A. C. Doherty, P. A. Parrilo, a\"\u001b[93m\u001b[1m ⋯ 64 bytes ⋯ \u001b[22m\u001b[39m\" Phys. Rev. A, 69:022308, 2004.\"\n",
       " \"M. Navascues, M. Owari, and M. \"\u001b[93m\u001b[1m ⋯ 64 bytes ⋯ \u001b[22m\u001b[39m\". Rev. Lett., 103:160404, 2009.\"\n",
       " \"N. Johnston. Separability from \"\u001b[93m\u001b[1m ⋯ 32 bytes ⋯ \u001b[22m\u001b[39m\" Phys. Rev. A, 88:062330, 2013.\"\n",
       " \"C.-J. Zhang, Y.-S. Zhang, S. Zh\"\u001b[93m\u001b[1m ⋯ 93 bytes ⋯ \u001b[22m\u001b[39m\"ys. Rev. A, 77:060301(R), 2008.\"\n",
       " \"R. Hildebrand. Semidefinite des\"\u001b[93m\u001b[1m ⋯ 62 bytes ⋯ \u001b[22m\u001b[39m\"gebra Appl., 429:901–932, 2008.\"\n",
       " \"R. Hildebrand. Comparison of th\"\u001b[93m\u001b[1m ⋯ 101 bytes ⋯ \u001b[22m\u001b[39m\"d/coreMPseminar2005_slides.pdf\"\n",
       " \"D. Cariello. Separability for w\"\u001b[93m\u001b[1m ⋯ 37 bytes ⋯ \u001b[22m\u001b[39m\"Xiv:1311.7275 [quant-ph], 2013.\"\n",
       " \"L. Chen and D. Z. Djokovic. Sep\"\u001b[93m\u001b[1m ⋯ 75 bytes ⋯ \u001b[22m\u001b[39m\" Math. Theor., 46:275304, 2013.\"\n",
       " \"G. Vidal and R. Tarrach. Robust\"\u001b[93m\u001b[1m ⋯ 22 bytes ⋯ \u001b[22m\u001b[39m\"Phys. Rev. A, 59:141–155, 1999.\""
      ]
     },
     "metadata": {},
     "output_type": "display_data"
    }
   ],
   "source": [
    "refs = [\n",
    "    \"A. Peres. Separability criterion for density matrices. Phys. Rev. Lett., 77:1413–1415, 1996.\",\n",
    "    \"M. Horodecki, P. Horodecki, and R. Horodecki. Separability of mixed states: Necessary and sufficient conditions. Phys. Lett. A, 223:1–8, 1996.\",\n",
    "    \"P. Horodecki, M. Lewenstein, G. Vidal, and I. Cirac. Operational criterion and constructive checks for the separability of low-rank density matrices. Phys. Rev. A, 62:032310, 2000.\",\n",
    "    \"K. Chen and L.-A. Wu. A matrix realignment method for recognizing entanglement. Quantum Inf. Comput., 3:193–202, 2003.\",\n",
    "    \"F. Verstraete, J. Dehaene, and B. De Moor. Normal forms and entanglement measures for multipartite quantum states. Phys. Rev. A, 68:012103, 2003.\",\n",
    "    \"K.-C. Ha and S.-H. Kye. Entanglement witnesses arising from exposed positive linear maps. Open Systems & Information Dynamics, 18:323–337, 2011.\",\n",
    "    \"O. Gittsovich, O. Guehne, P. Hyllus, and J. Eisert. Unifying several separability conditions using the covariance matrix criterion. Phys. Rev. A, 78:052319, 2008.\",\n",
    "    \"L. Gurvits and H. Barnum. Largest separable balls around the maximally mixed bipartite quantum state. Phys. Rev. A, 66:062311, 2002.\",\n",
    "    \"H.-P. Breuer. Optimal entanglement criterion for mixed quantum states. Phys. Rev. Lett., 97:080501, 2006.\",\n",
    "    \"W. Hall. Constructions of indecomposable positive maps based on a new criterion for indecomposability. E-print: arXiv:quant-ph/0607035, 2006.\",\n",
    "    \"A. C. Doherty, P. A. Parrilo, and F. M. Spedalieri. A complete family of separability criteria. Phys. Rev. A, 69:022308, 2004.\",\n",
    "    \"M. Navascues, M. Owari, and M. B. Plenio. A complete criterion for separability detection. Phys. Rev. Lett., 103:160404, 2009.\",\n",
    "    \"N. Johnston. Separability from spectrum for qubit-qudit states. Phys. Rev. A, 88:062330, 2013.\",\n",
    "    \"C.-J. Zhang, Y.-S. Zhang, S. Zhang, and G.-C. Guo. Entanglement detection beyond the cross-norm or realignment criterion. Phys. Rev. A, 77:060301(R), 2008.\",\n",
    "    \"R. Hildebrand. Semidefinite descriptions of low-dimensional separable matrix cones. Linear Algebra Appl., 429:901–932, 2008.\",\n",
    "    \"R. Hildebrand. Comparison of the PPT cone and the separable cone for 2-by-n systems. http://www-ljk.imag.fr/membres/Roland.Hildebrand/coreMPseminar2005_slides.pdf\",\n",
    "    \"D. Cariello. Separability for weak irreducible matrices. E-print: arXiv:1311.7275 [quant-ph], 2013.\",\n",
    "    \"L. Chen and D. Z. Djokovic. Separability problem for multipartite states of rank at most four. J. Phys. A: Math. Theor., 46:275304, 2013.\",\n",
    "    \"G. Vidal and R. Tarrach. Robustness of entanglement. Phys. Rev. A, 59:141–155, 1999.\"\n",
    "]\n"
   ]
  },
  {
   "cell_type": "code",
   "execution_count": 333,
   "metadata": {},
   "outputs": [
    {
     "data": {
      "text/plain": [
       "false"
      ]
     },
     "metadata": {},
     "output_type": "display_data"
    }
   ],
   "source": [
    "function is_ppt(ρ::AbstractMatrix, dims::Vector{Int}, sys::Int=2; atol=1e-10)\n",
    "    ρ_pt = partial_transpose(ρ, [sys], dims)\n",
    "    λs = LinearAlgebra.eigen(ρ_pt).values\n",
    "    return all(λs .>= -atol)\n",
    "end\n",
    "\n",
    "ppt = is_ppt(X, Int.(dim))\n"
   ]
  },
  {
   "cell_type": "code",
   "execution_count": 334,
   "metadata": {},
   "outputs": [
    {
     "name": "stdout",
     "output_type": "stream",
     "text": [
      "Determined to be entangled via the PPT criterion. Reference:\n",
      "A. Peres. Separability criterion for density matrices. Phys. Rev. Lett., 77:1413–1415, 1996.\n",
      "\n"
     ]
    }
   ],
   "source": [
    "if !ppt\n",
    "    sep = 0\n",
    "    if Bool(verbose)\n",
    "        println(\"Determined to be entangled via the PPT criterion. Reference:\\n\", refs[1], \"\\n\")\n",
    "    end\n",
    "    return\n",
    "\n",
    "elseif pD <= 6 || minimum(dim) <= 1\n",
    "    sep = 1\n",
    "    if Bool(verbose)\n",
    "        println(\"Determined to be separable via sufficiency of the PPT criterion in small dimensions. Reference:\\n\", refs[2], \"\\n\")\n",
    "    end\n",
    "    return\n",
    "\n",
    "elseif rX <= 3 || rX <= LinearAlgebra.rank(XB) || rX <= LinearAlgebra.rank(XA)\n",
    "    sep = 1\n",
    "    if Bool(verbose)\n",
    "        (\"Determined to be separable via sufficiency of the PPT criterion for low-rank operators. Reference:\\n\", refs[3], \"\\n\")\n",
    "    end\n",
    "    return\n",
    "end"
   ]
  },
  {
   "cell_type": "code",
   "execution_count": 337,
   "metadata": {},
   "outputs": [
    {
     "data": {
      "text/plain": [
       "realignment"
      ]
     },
     "metadata": {},
     "output_type": "display_data"
    }
   ],
   "source": [
    "\"\"\"\n",
    "    realignment(X::AbstractArray, dim=nothing)\n",
    "\n",
    "Performs the realignment transformation on a bipartite quantum operator `X`.\n",
    "\n",
    "# Arguments\n",
    "- `X`: A square matrix representing the bipartite system.\n",
    "- `dim`: Optional. A two-element array specifying the dimensions of the subsystems. \n",
    "         If not provided, an attempt is made to infer it from `X`.\n",
    "\n",
    "# Returns\n",
    "- A matrix of size `dA^2 × dB^2` where `dA` and `dB` are subsystem dimensions.\n",
    "\n",
    "# Notes\n",
    "- If `dim` is a scalar, it's interpreted as `dA` and `dB` is inferred.\n",
    "- Throws an error if dimensions are incompatible.\n",
    "\"\"\"\n",
    "function realignment(X::AbstractArray, dim=nothing)\n",
    "    dX = size(X)\n",
    "    inferred_dim = round.(sqrt.(dX))\n",
    "\n",
    "    if dim === nothing\n",
    "        dim = collect(inferred_dim)\n",
    "    end\n",
    "\n",
    "    if length(dim) == 1\n",
    "        dim = [dim, dX[1] / dim]\n",
    "        if abs(dim[2] - round(dim[2])) >= 2 * dX[1] * eps()\n",
    "            error(\"Realignment:InvalidDim — \",\n",
    "                \"If `dim` is a scalar, `X` must be square and `dim` must evenly divide length(X); \",\n",
    "                \"please provide a two-element `dim` array specifying the subsystem dimensions.\")\n",
    "        end\n",
    "        dim[2] = round(dim[2])\n",
    "    end\n",
    "\n",
    "    if minimum(size(dim)) == 1\n",
    "        dim = vec(dim)'\n",
    "        dim = vcat(dim, dim)\n",
    "    end\n",
    "\n",
    "    dA, dB = Int.(vec(dim))\n",
    "\n",
    "    X_tensor = reshape(X, dA, dB, dA, dB)\n",
    "    X_swapped = permutedims(X_tensor, (2, 1, 4, 3))\n",
    "    X_swapped_matrix = reshape(X_swapped, dA * dB, dA * dB)\n",
    "\n",
    "    X_pt = Ket.partial_transpose(X_swapped_matrix, [1], [dB, dA])\n",
    "    X_pt_tensor = reshape(X_pt, dB, dA, dB, dA)\n",
    "    X_unswapped = permutedims(X_pt_tensor, (2, 1, 4, 3))\n",
    "\n",
    "    return reshape(X_unswapped, dA^2, dB^2)\n",
    "end\n"
   ]
  },
  {
   "cell_type": "code",
   "execution_count": 338,
   "metadata": {},
   "outputs": [
    {
     "name": "stdout",
     "output_type": "stream",
     "text": [
      "Determined to be entangled via the realignment criterion. Reference:\n",
      "K. Chen and L.-A. Wu. A matrix realignment method for recognizing entanglement. Quantum Inf. Comput., 3:193–202, 2003.\n",
      "\n"
     ]
    }
   ],
   "source": [
    "if Bool(verbose) && Ket.trace_norm(realignment(X, dim)) > 1\n",
    "    sep = 0\n",
    "    println(\"Determined to be entangled via the realignment criterion. Reference:\\n$(refs[4])\\n\")\n",
    "    return\n",
    "end"
   ]
  },
  {
   "cell_type": "code",
   "execution_count": 339,
   "metadata": {},
   "outputs": [
    {
     "name": "stdout",
     "output_type": "stream",
     "text": [
      "Determined to be entangled by using Theorem 1 of reference:\n",
      "C.-J. Zhang, Y.-S. Zhang, S. Zhang, and G.-C. Guo. Entanglement detection beyond the cross-norm or realignment criterion. Phys. Rev. A, 77:060301(R), 2008.\n",
      "\n"
     ]
    }
   ],
   "source": [
    "if Ket.trace_norm(realignment(X - kron(XA, XB))) > sqrt(real((1 - LinearAlgebra.tr(XA^2)) * (1 - LinearAlgebra.tr(XB^2))))\n",
    "    sep = 0\n",
    "    println(\"Determined to be entangled by using Theorem 1 of reference:\\n\", refs[14], \"\\n\")\n",
    "    return\n",
    "end"
   ]
  },
  {
   "cell_type": "code",
   "execution_count": 340,
   "metadata": {},
   "outputs": [
    {
     "data": {
      "text/plain": [
       "4-element Vector{Float64}:\n",
       " 0.742717740775585\n",
       " 0.23062359488903747\n",
       " 0.02665866433537675\n",
       " 1.0656071716582526e-16"
      ]
     },
     "metadata": {},
     "output_type": "display_data"
    }
   ],
   "source": [
    "lam = sort(real.(LinearAlgebra.eigen(X).values), rev=true)"
   ]
  },
  {
   "cell_type": "code",
   "execution_count": 341,
   "metadata": {},
   "outputs": [
    {
     "data": {
      "text/plain": [
       "swap_subsystems (generic function with 1 method)"
      ]
     },
     "metadata": {},
     "output_type": "display_data"
    }
   ],
   "source": [
    "function swap_subsystems(X::Matrix{<:Number}, sys::Tuple{Int,Int}, dim::AbstractVector{<:Int})\n",
    "    # Ensure dim is a 1D vector of length 2\n",
    "    d1, d2 = Int.(vec(dim))\n",
    "    total_dim = d1 * d2\n",
    "    @assert size(X, 1) == total_dim && size(X, 2) == total_dim \"Matrix size doesn't match subsystem dimensions\"\n",
    "\n",
    "    # Reshape X into 4D tensor: (a1, a2, b1, b2)\n",
    "    X_tensor = reshape(X, d1, d2, d1, d2)\n",
    "\n",
    "    # Swap subsystems 1 and 2: (a1, a2) → (a2, a1) and (b1, b2) → (b2, b1)\n",
    "    # permuted order: (2, 1, 4, 3)\n",
    "    X_swapped = permutedims(X_tensor, (2, 1, 4, 3))\n",
    "\n",
    "    # Reshape back to matrix\n",
    "    return reshape(X_swapped, total_dim, total_dim)\n",
    "end"
   ]
  },
  {
   "cell_type": "code",
   "execution_count": 342,
   "metadata": {},
   "outputs": [],
   "source": [
    "if nD == 2\n",
    "    if ((lam[1] - lam[Int(2 * xD - 1)])^2) <= (4 * lam[Int(2 * xD - 2)] * lam[Int(2 * xD)] + tol^2)\n",
    "        sep = 1\n",
    "        if Bool(verbose)\n",
    "            println(\"Determined to be separable by inspecting its eigenvalues. Reference:\\n\", refs[13], \"\\n\")\n",
    "        end\n",
    "        return\n",
    "    end\n",
    "    if dim[1] > 2\n",
    "        Xt = swap_subsystems(X, (1, 2), dim)\n",
    "    else\n",
    "        Xt = X\n",
    "    end\n",
    "\n",
    "    A = Xt[1:Int(xD), 1:Int(xD)]\n",
    "    B = Xt[1:Int(xD), Int(xD)+1:2*Int(xD)]\n",
    "    C = Xt[Int(xD)+1:2*Int(xD), Int(xD)+1:2*Int(xD)]\n",
    "\n",
    "    if Bool(verbose) && (LinearAlgebra.norm(B - B') < tol ^ 2)\n",
    "        sep = 1\n",
    "        println(\"Determined to be separable by being a block Hankel matrix:\\n\", refs[15], \"\\n\")\n",
    "        return\n",
    "    end\n",
    "\n",
    "    if (LinearAlgebra.rank(B - B') <= 1) && ppt\n",
    "        sep = 1\n",
    "        if Bool(verbose)\n",
    "            println(\"Determined to be separable by being a perturbed block Hankel matrix:\\n\", refs[16], \"\\n\")\n",
    "        end\n",
    "        return\n",
    "    end\n",
    "\n",
    "    X_2n_ppt_check = vcat(\n",
    "        hcat((5/6) * A - C / 6, B),\n",
    "        hcat(B', (5/6) * C - A / 6)\n",
    "    )\n",
    "\n",
    "    if LinearAlgebra.isposdef(X_2n_ppt_check) && is_ppt(X_2n_ppt_check, [2, Int(xD)])\n",
    "        sep = 1\n",
    "        if Bool(verbose)\n",
    "            println(\"Determined to be separable via the homothetic images approach of:\\n\", refs[16], \"\\n\")\n",
    "        end\n",
    "        return\n",
    "    end\n",
    "end"
   ]
  }
 ],
 "metadata": {
  "kernelspec": {
   "display_name": "Julia 1.11.3",
   "language": "julia",
   "name": "julia-1.11"
  },
  "language_info": {
   "file_extension": ".jl",
   "mimetype": "application/julia",
   "name": "julia",
   "version": "1.11.3"
  }
 },
 "nbformat": 4,
 "nbformat_minor": 2
}
